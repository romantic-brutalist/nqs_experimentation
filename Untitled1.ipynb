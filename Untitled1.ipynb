{
 "cells": [
  {
   "cell_type": "code",
   "execution_count": 47,
   "id": "57da566e-a5b6-4e3d-a321-ad9da7f12e1c",
   "metadata": {},
   "outputs": [],
   "source": [
    "import numpy as np\n",
    "\n",
    "def random_complex(size):\n",
    "    a = (np.random.random(size) - .5) * 10e-2\n",
    "    b = (np.random.random(size) - .5) * 10e-2\n",
    "    return a + 1j*b\n",
    "\n",
    "N = 4\n",
    "alpha = 1\n",
    "M = alpha * N\n",
    "hfield = 2\n",
    "a = random_complex(N)\n",
    "b = random_complex(M)\n",
    "W = random_complex((N,M))\n",
    "state = np.random.randint(2, size=N)\n",
    "state[state == 0] = -1\n",
    "state_i = list(range(N))"
   ]
  },
  {
   "cell_type": "code",
   "execution_count": 48,
   "id": "8ce13524-07c4-432f-9763-11e33e8f092b",
   "metadata": {},
   "outputs": [],
   "source": [
    "def effective_angles(state,b,W):\n",
    "    return b+np.inner(np.transpose(W),state)\n",
    "\n",
    "def Psi_M(state,a,b,W):\n",
    "    return np.exp(np.inner(a,state)) * np.prod(2*np.cosh(effective_angles(state,b,W)))"
   ]
  },
  {
   "cell_type": "code",
   "execution_count": 49,
   "id": "552e97d5-8f32-4d55-876d-f2fd35972b56",
   "metadata": {},
   "outputs": [
    {
     "data": {
      "text/plain": [
       "array([-1, -1,  1, -1])"
      ]
     },
     "execution_count": 49,
     "metadata": {},
     "output_type": "execute_result"
    }
   ],
   "source": [
    "state = np.random.randint(2, size=N)\n",
    "state[state == 0] = -1\n",
    "state_i = list(range(N))\n",
    "state"
   ]
  },
  {
   "cell_type": "code",
   "execution_count": 50,
   "id": "a3dc3048-9fea-4948-91f6-06067af3c603",
   "metadata": {},
   "outputs": [
    {
     "data": {
      "text/plain": [
       "(-1.6055920424494842e-05+4.082397782104854e-06j)"
      ]
     },
     "execution_count": 50,
     "metadata": {},
     "output_type": "execute_result"
    }
   ],
   "source": [
    "np.exp(np.inner(a,state)) * np.prod(b+np.inner(np.transpose(W),state))"
   ]
  },
  {
   "cell_type": "code",
   "execution_count": null,
   "id": "4001c982-5c72-454d-837d-f88bdedd2a19",
   "metadata": {},
   "outputs": [],
   "source": []
  },
  {
   "cell_type": "code",
   "execution_count": null,
   "id": "8737ae1f-7721-4c39-ab87-6b72c760b8c4",
   "metadata": {},
   "outputs": [],
   "source": []
  }
 ],
 "metadata": {
  "kernelspec": {
   "display_name": "Python 3 (ipykernel)",
   "language": "python",
   "name": "python3"
  },
  "language_info": {
   "codemirror_mode": {
    "name": "ipython",
    "version": 3
   },
   "file_extension": ".py",
   "mimetype": "text/x-python",
   "name": "python",
   "nbconvert_exporter": "python",
   "pygments_lexer": "ipython3",
   "version": "3.9.6"
  }
 },
 "nbformat": 4,
 "nbformat_minor": 5
}
