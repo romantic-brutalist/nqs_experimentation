{
 "cells": [
  {
   "cell_type": "code",
   "execution_count": 1,
   "id": "57da566e-a5b6-4e3d-a321-ad9da7f12e1c",
   "metadata": {},
   "outputs": [],
   "source": [
    "import numpy as np\n",
    "import numpy as np\n",
    "from scipy import sparse\n",
    "from scipy.sparse.linalg import eigsh\n",
    "\n",
    "def random_complex(size):\n",
    "    a = (np.random.random(size) - .5) * 10e-2\n",
    "    b = (np.random.random(size) - .5) * 10e-2\n",
    "    return a + 1j*b\n",
    "\n",
    "N = 4\n",
    "alpha = 1\n",
    "M = alpha * N\n",
    "hfield = 2\n",
    "a = random_complex(N)\n",
    "b = random_complex(M)\n",
    "W = random_complex((N,M))\n",
    "state = np.random.randint(2, size=N)\n",
    "state[state == 0] = -1\n",
    "state_i = list(range(N))"
   ]
  },
  {
   "cell_type": "code",
   "execution_count": 2,
   "id": "6dfd2553-66d6-4102-9652-3ae2e2102c9a",
   "metadata": {},
   "outputs": [
    {
     "data": {
      "text/plain": [
       "array([-1,  1,  1, -1])"
      ]
     },
     "execution_count": 2,
     "metadata": {},
     "output_type": "execute_result"
    }
   ],
   "source": [
    "state"
   ]
  },
  {
   "cell_type": "code",
   "execution_count": 48,
   "id": "8ce13524-07c4-432f-9763-11e33e8f092b",
   "metadata": {},
   "outputs": [],
   "source": [
    "def effective_angles(state,b,W):\n",
    "    return b+np.inner(np.transpose(W),state)\n",
    "\n",
    "def Psi_M(state,a,b,W):\n",
    "    return np.exp(np.inner(a,state)) * np.prod(2*np.cosh(effective_angles(state,b,W)))"
   ]
  },
  {
   "cell_type": "code",
   "execution_count": 49,
   "id": "552e97d5-8f32-4d55-876d-f2fd35972b56",
   "metadata": {},
   "outputs": [
    {
     "data": {
      "text/plain": [
       "array([-1, -1,  1, -1])"
      ]
     },
     "execution_count": 49,
     "metadata": {},
     "output_type": "execute_result"
    }
   ],
   "source": [
    "state = np.random.randint(2, size=N)\n",
    "state[state == 0] = -1\n",
    "state_i = list(range(N))\n",
    "state"
   ]
  },
  {
   "cell_type": "code",
   "execution_count": 50,
   "id": "a3dc3048-9fea-4948-91f6-06067af3c603",
   "metadata": {},
   "outputs": [
    {
     "data": {
      "text/plain": [
       "(-1.6055920424494842e-05+4.082397782104854e-06j)"
      ]
     },
     "execution_count": 50,
     "metadata": {},
     "output_type": "execute_result"
    }
   ],
   "source": [
    "np.exp(np.inner(a,state)) * np.prod(b+np.inner(np.transpose(W),state))"
   ]
  },
  {
   "cell_type": "code",
   "execution_count": 59,
   "id": "4001c982-5c72-454d-837d-f88bdedd2a19",
   "metadata": {},
   "outputs": [],
   "source": [
    "def get_pauli_operator(operator_type, position, n_spins):\n",
    "    \"\"\"Creates a Pauli operator for a specific position in an n-spin system\n",
    "    \n",
    "    Args:\n",
    "        operator_type (str): Type of Pauli operator ('x', 'y', or 'z')\n",
    "        position (int): Position in the spin chain (0 to n_spins-1)\n",
    "        n_spins (int): Total number of spins in the system\n",
    "        \n",
    "    Returns:\n",
    "        sparse.csr_matrix: Sparse matrix representation of the Pauli operator\n",
    "    \"\"\"\n",
    "    sigma_x = sparse.csr_matrix([[0, 1], [1, 0]])\n",
    "    sigma_y = sparse.csr_matrix([[0, -1j], [1j, 0]])\n",
    "    sigma_z = sparse.csr_matrix([[1, 0], [0, -1]])\n",
    "    I = sparse.eye(2)\n",
    "    \n",
    "    if not 0 <= position < n_spins:\n",
    "        raise ValueError(f\"Position must be between 0 and {n_spins-1}\")\n",
    "        \n",
    "    # Create list of identity matrices\n",
    "    operators = [I] * n_spins\n",
    "    \n",
    "    # Insert appropriate Pauli matrix at specified position\n",
    "    if operator_type == 'x':\n",
    "        operators[position] = sigma_x\n",
    "    elif operator_type == 'y':\n",
    "        operators[position] = sigma_y\n",
    "    elif operator_type == 'z':\n",
    "        operators[position] = sigma_z\n",
    "    else:\n",
    "        raise ValueError(\"operator_type must be 'x', 'y', or 'z'\")\n",
    "    \n",
    "    # Use reduce to perform multiple kronecker products\n",
    "    from functools import reduce\n",
    "    return reduce(lambda x, y: sparse.kron(x, y), operators)"
   ]
  },
  {
   "cell_type": "code",
   "execution_count": 64,
   "id": "8737ae1f-7721-4c39-ab87-6b72c760b8c4",
   "metadata": {},
   "outputs": [
    {
     "data": {
      "text/plain": [
       "array([[0., 0., 1., 0.],\n",
       "       [0., 0., 0., 1.],\n",
       "       [1., 0., 0., 0.],\n",
       "       [0., 1., 0., 0.]])"
      ]
     },
     "execution_count": 64,
     "metadata": {},
     "output_type": "execute_result"
    }
   ],
   "source": [
    "get_pauli_operator(\"x\",0,2).A"
   ]
  },
  {
   "cell_type": "code",
   "execution_count": 65,
   "id": "0901d3d0-1506-4e5e-9993-84ce21915ceb",
   "metadata": {},
   "outputs": [
    {
     "data": {
      "text/plain": [
       "array([[0., 1., 0., 0.],\n",
       "       [1., 0., 0., 0.],\n",
       "       [0., 0., 0., 1.],\n",
       "       [0., 0., 1., 0.]])"
      ]
     },
     "execution_count": 65,
     "metadata": {},
     "output_type": "execute_result"
    }
   ],
   "source": [
    "get_pauli_operator(\"x\",1,2).A\n"
   ]
  },
  {
   "cell_type": "code",
   "execution_count": 66,
   "id": "7824d313-36a0-4dee-8e86-2ad896ec91c0",
   "metadata": {},
   "outputs": [
    {
     "data": {
      "text/plain": [
       "10715086071862673209484250490600018105614048117055336074437503883703510511249361224931983788156958581275946729175531468251871452856923140435984577574698574803934567774824230985421074605062371141877954182153046474983581941267398767559165543946077062914571196477686542167660429831652624386837205668069376"
      ]
     },
     "execution_count": 66,
     "metadata": {},
     "output_type": "execute_result"
    }
   ],
   "source": [
    "2**1000"
   ]
  },
  {
   "cell_type": "code",
   "execution_count": null,
   "id": "927848cd-7936-4524-8307-3491ca8ad9be",
   "metadata": {},
   "outputs": [],
   "source": []
  }
 ],
 "metadata": {
  "kernelspec": {
   "display_name": "Python 3 (ipykernel)",
   "language": "python",
   "name": "python3"
  },
  "language_info": {
   "codemirror_mode": {
    "name": "ipython",
    "version": 3
   },
   "file_extension": ".py",
   "mimetype": "text/x-python",
   "name": "python",
   "nbconvert_exporter": "python",
   "pygments_lexer": "ipython3",
   "version": "3.9.6"
  }
 },
 "nbformat": 4,
 "nbformat_minor": 5
}
