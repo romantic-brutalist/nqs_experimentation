{
 "cells": [
  {
   "cell_type": "code",
   "execution_count": 1,
   "id": "57da566e-a5b6-4e3d-a321-ad9da7f12e1c",
   "metadata": {},
   "outputs": [],
   "source": [
    "import numpy as np\n",
    "import numpy as np\n",
    "from scipy import sparse\n",
    "from scipy.sparse.linalg import eigsh\n",
    "\n",
    "def random_complex(size):\n",
    "    a = (np.random.random(size) - .5) * 10e-2\n",
    "    b = (np.random.random(size) - .5) * 10e-2\n",
    "    return a + 1j*b\n",
    "\n",
    "N = 4\n",
    "alpha = 1\n",
    "M = alpha * N\n",
    "hfield = 2\n",
    "a = random_complex(N)\n",
    "b = random_complex(M)\n",
    "W = random_complex((N,M))\n",
    "state = np.random.randint(2, size=N)\n",
    "state[state == 0] = -1\n",
    "state_i = list(range(N))"
   ]
  },
  {
   "cell_type": "code",
   "execution_count": 2,
   "id": "6dfd2553-66d6-4102-9652-3ae2e2102c9a",
   "metadata": {},
   "outputs": [
    {
     "data": {
      "text/plain": [
       "array([-1,  1,  1, -1])"
      ]
     },
     "execution_count": 2,
     "metadata": {},
     "output_type": "execute_result"
    }
   ],
   "source": [
    "state"
   ]
  },
  {
   "cell_type": "code",
   "execution_count": 48,
   "id": "8ce13524-07c4-432f-9763-11e33e8f092b",
   "metadata": {},
   "outputs": [],
   "source": [
    "def effective_angles(state,b,W):\n",
    "    return b+np.inner(np.transpose(W),state)\n",
    "\n",
    "def Psi_M(state,a,b,W):\n",
    "    return np.exp(np.inner(a,state)) * np.prod(2*np.cosh(effective_angles(state,b,W)))"
   ]
  },
  {
   "cell_type": "code",
   "execution_count": 49,
   "id": "552e97d5-8f32-4d55-876d-f2fd35972b56",
   "metadata": {},
   "outputs": [
    {
     "data": {
      "text/plain": [
       "array([-1, -1,  1, -1])"
      ]
     },
     "execution_count": 49,
     "metadata": {},
     "output_type": "execute_result"
    }
   ],
   "source": [
    "state = np.random.randint(2, size=N)\n",
    "state[state == 0] = -1\n",
    "state_i = list(range(N))\n",
    "state"
   ]
  },
  {
   "cell_type": "code",
   "execution_count": 50,
   "id": "a3dc3048-9fea-4948-91f6-06067af3c603",
   "metadata": {},
   "outputs": [
    {
     "data": {
      "text/plain": [
       "(-1.6055920424494842e-05+4.082397782104854e-06j)"
      ]
     },
     "execution_count": 50,
     "metadata": {},
     "output_type": "execute_result"
    }
   ],
   "source": [
    "np.exp(np.inner(a,state)) * np.prod(b+np.inner(np.transpose(W),state))"
   ]
  },
  {
   "cell_type": "code",
   "execution_count": 4,
   "id": "4001c982-5c72-454d-837d-f88bdedd2a19",
   "metadata": {},
   "outputs": [],
   "source": [
    "def get_pauli_operator(operator_type, position, n_spins):\n",
    "    \"\"\"Creates a Pauli operator for a specific position in an n-spin system\n",
    "    \n",
    "    Args:\n",
    "        operator_type (str): Type of Pauli operator ('x', 'y', or 'z')\n",
    "        position (int): Position in the spin chain (0 to n_spins-1)\n",
    "        n_spins (int): Total number of spins in the system\n",
    "        \n",
    "    Returns:\n",
    "        sparse.csr_matrix: Sparse matrix representation of the Pauli operator\n",
    "    \"\"\"\n",
    "    sigma_x = sparse.csr_matrix([[0, 1], [1, 0]])\n",
    "    sigma_y = sparse.csr_matrix([[0, -1j], [1j, 0]])\n",
    "    sigma_z = sparse.csr_matrix([[1, 0], [0, -1]])\n",
    "    I = sparse.eye(2)\n",
    "    \n",
    "    if not 0 <= position < n_spins:\n",
    "        raise ValueError(f\"Position must be between 0 and {n_spins-1}\")\n",
    "        \n",
    "    # Create list of identity matrices\n",
    "    operators = [I] * n_spins\n",
    "    \n",
    "    # Insert appropriate Pauli matrix at specified position\n",
    "    if operator_type == 'x':\n",
    "        operators[position] = sigma_x\n",
    "    elif operator_type == 'y':\n",
    "        operators[position] = sigma_y\n",
    "    elif operator_type == 'z':\n",
    "        operators[position] = sigma_z\n",
    "    else:\n",
    "        raise ValueError(\"operator_type must be 'x', 'y', or 'z'\")\n",
    "    \n",
    "    # Use reduce to perform multiple kronecker products\n",
    "    from functools import reduce\n",
    "    return reduce(lambda x, y: sparse.kron(x, y), operators)\n",
    "\n"
   ]
  },
  {
   "cell_type": "code",
   "execution_count": 31,
   "id": "8737ae1f-7721-4c39-ab87-6b72c760b8c4",
   "metadata": {},
   "outputs": [],
   "source": [
    "res = np.array([0,1,0,0])@(-get_pauli_operator(\"x\",0,2).A-get_pauli_operator(\"x\",1,2).A)"
   ]
  },
  {
   "cell_type": "code",
   "execution_count": 32,
   "id": "9ee9231e-667e-48ed-b211-fa2e2278e90b",
   "metadata": {},
   "outputs": [
    {
     "data": {
      "text/plain": [
       "array([-1.,  0.,  0., -1.])"
      ]
     },
     "execution_count": 32,
     "metadata": {},
     "output_type": "execute_result"
    }
   ],
   "source": [
    "res"
   ]
  },
  {
   "cell_type": "code",
   "execution_count": 33,
   "id": "70903e59-88e0-4adf-8adb-da7b8670d96a",
   "metadata": {},
   "outputs": [
    {
     "data": {
      "text/plain": [
       "'-a1-a4'"
      ]
     },
     "execution_count": 33,
     "metadata": {},
     "output_type": "execute_result"
    }
   ],
   "source": [
    "res = np.array([0,1,0,0])@(-get_pauli_operator(\"x\",0,2).A-get_pauli_operator(\"x\",1,2).A)\n",
    "def evaluate_le(n_spin,result):\n",
    "    eval = ''\n",
    "    psi_m = ['a'+ str(x) for x in range(1,2**n_spin+1)]\n",
    "    for ix,i in enumerate(result.tolist()):\n",
    "        if i!= 0:\n",
    "            eval+= ('+' if i==1 else '-') + psi_m[ix]\n",
    "    return eval\n",
    "evaluate_le(2,res)"
   ]
  },
  {
   "cell_type": "code",
   "execution_count": 12,
   "id": "0901d3d0-1506-4e5e-9993-84ce21915ceb",
   "metadata": {},
   "outputs": [
    {
     "data": {
      "text/plain": [
       "(array([[ 1.,  0.,  0.,  0.],\n",
       "        [ 0.,  1.,  0.,  0.],\n",
       "        [ 0.,  0., -1.,  0.],\n",
       "        [ 0.,  0.,  0., -1.]]),\n",
       " array([[ 1.,  0.,  0.,  0.],\n",
       "        [ 0., -1.,  0.,  0.],\n",
       "        [ 0.,  0.,  1.,  0.],\n",
       "        [ 0.,  0.,  0., -1.]]))"
      ]
     },
     "execution_count": 12,
     "metadata": {},
     "output_type": "execute_result"
    }
   ],
   "source": [
    "<S| for each possible configuration:\n",
    "<+1,+1| = [1 0 0 0]    # ↑↑ state\n",
    "<+1,-1| = [0 1 0 0]    # ↑↓ state\n",
    "<-1,+1| = [0 0 1 0]    # ↓↑ state\n",
    "<-1,-1| = [0 0 0 1]    # ↓↓ state"
   ]
  },
  {
   "cell_type": "code",
   "execution_count": 76,
   "id": "e17b4d2b-ae33-40e1-8f54-36f7aba137a2",
   "metadata": {},
   "outputs": [
    {
     "name": "stdout",
     "output_type": "stream",
     "text": [
      "[[-1, -1], [-1, 1], [1, -1], [1, 1]]\n"
     ]
    }
   ],
   "source": [
    "def generate_spin_configurations(n_spins):\n",
    "    # Base case\n",
    "    if n_spins == 1:\n",
    "        return [[1], [-1]]\n",
    "    smaller_configs = generate_spin_configurations(n_spins - 1)\n",
    "    configs = []\n",
    "    for config in smaller_configs:\n",
    "        configs.append(config + [1])\n",
    "        configs.append(config + [-1])\n",
    "    return configs[::-1]  \n",
    "n = 2\n",
    "configs = generate_spin_configurations(n)\n",
    "print(configs)"
   ]
  },
  {
   "cell_type": "code",
   "execution_count": 74,
   "id": "82ee8243-41de-42c9-a9b2-13b5e482d8ba",
   "metadata": {},
   "outputs": [],
   "source": [
    "def psi(state_ket):\n",
    "    return'a'+ str(state_ket.index(1)+1)\n",
    "\n",
    "def get_ket(state):\n",
    "    idx = int(((-np.array(state)+1)/2)@np.array([2**i for i in range(len(state)-1,-1,-1)]))\n",
    "    return [0 if i!=idx else 1 for i in range(2**len(state)) ]"
   ]
  },
  {
   "cell_type": "code",
   "execution_count": 141,
   "id": "db941909-eab2-4da5-bf35-26bd00a3dced",
   "metadata": {},
   "outputs": [
    {
     "data": {
      "text/plain": [
       "'none'"
      ]
     },
     "execution_count": 141,
     "metadata": {},
     "output_type": "execute_result"
    }
   ],
   "source": [
    "\n",
    "def evaluate_le(n_spin,result):\n",
    "    eval = []\n",
    "    psi_m = ['a'+ str(x) for x in range(1,2**n_spin+1)]\n",
    "    for ix,i in enumerate(result.tolist()):\n",
    "        if i!= 0:\n",
    "            eval+= [str(int(i)) + ' * ' + psi_m[ix]]\n",
    "    if len(eval)!=0:\n",
    "        return ' '.join(eval)\n",
    "    else:\n",
    "        return 'none'\n",
    "evaluate_le(3,res)"
   ]
  },
  {
   "cell_type": "code",
   "execution_count": 143,
   "id": "cddd2744-91a5-494d-b906-4ea695f54c8a",
   "metadata": {},
   "outputs": [
    {
     "name": "stdout",
     "output_type": "stream",
     "text": [
      "[-1, -1, 1, -1] a14 -1 * a6 -1 * a10 -1 * a13 -1 * a16\n",
      "[-1, -1, 1, 1] a13 -1 * a5 -1 * a9 -1 * a14 -1 * a15\n",
      "[-1, -1, -1, -1] a16 -1 * a8 -1 * a12 -1 * a14 -1 * a15\n",
      "[-1, -1, -1, 1] a15 -1 * a7 -1 * a11 -1 * a13 -1 * a16\n",
      "[-1, 1, 1, -1] a10 -1 * a2 -1 * a9 -1 * a12 -1 * a14\n",
      "[-1, 1, 1, 1] a9 -1 * a1 -1 * a10 -1 * a11 -1 * a13\n",
      "[-1, 1, -1, -1] a12 -1 * a4 -1 * a10 -1 * a11 -1 * a16\n",
      "[-1, 1, -1, 1] a11 -1 * a3 -1 * a9 -1 * a12 -1 * a15\n",
      "[1, -1, 1, -1] a6 -1 * a2 -1 * a5 -1 * a8 -1 * a14\n",
      "[1, -1, 1, 1] a5 -1 * a1 -1 * a6 -1 * a7 -1 * a13\n",
      "[1, -1, -1, -1] a8 -1 * a4 -1 * a6 -1 * a7 -1 * a16\n",
      "[1, -1, -1, 1] a7 -1 * a3 -1 * a5 -1 * a8 -1 * a15\n",
      "[1, 1, 1, -1] a2 -1 * a1 -1 * a4 -1 * a6 -1 * a10\n",
      "[1, 1, 1, 1] a1 -1 * a2 -1 * a3 -1 * a5 -1 * a9\n",
      "[1, 1, -1, -1] a4 -1 * a2 -1 * a3 -1 * a8 -1 * a12\n",
      "[1, 1, -1, 1] a3 -1 * a1 -1 * a4 -1 * a7 -1 * a11\n",
      "=========================================================================================\n",
      "[-1, -1, 1, -1] a14 -a6-a10-a16-a13\n",
      "[-1, -1, 1, 1] a13 -a5-a9-a15-a14\n",
      "[-1, -1, -1, -1] a16 -a8-a12-a14-a15\n",
      "[-1, -1, -1, 1] a15 -a7-a11-a13-a16\n",
      "[-1, 1, 1, -1] a10 -a2-a14-a12-a9\n",
      "[-1, 1, 1, 1] a9 -a1-a13-a11-a10\n",
      "[-1, 1, -1, -1] a12 -a4-a16-a10-a11\n",
      "[-1, 1, -1, 1] a11 -a3-a15-a9-a12\n",
      "[1, -1, 1, -1] a6 -a14-a2-a8-a5\n",
      "[1, -1, 1, 1] a5 -a13-a1-a7-a6\n",
      "[1, -1, -1, -1] a8 -a16-a4-a6-a7\n",
      "[1, -1, -1, 1] a7 -a15-a3-a5-a8\n",
      "[1, 1, 1, -1] a2 -a10-a6-a4-a1\n",
      "[1, 1, 1, 1] a1 -a9-a5-a3-a2\n",
      "[1, 1, -1, -1] a4 -a12-a8-a2-a3\n",
      "[1, 1, -1, 1] a3 -a11-a7-a1-a4\n"
     ]
    }
   ],
   "source": [
    "psi_s = psi(get_ket(state))\n",
    "n = 4\n",
    "configs = generate_spin_configurations(n)\n",
    "for state in configs:\n",
    "    psi_s = psi(get_ket(state))\n",
    "    ket = get_ket(state)\n",
    "    pauli_sum = np.sum([-get_pauli_operator(\"x\",i,n).A for i in range(n)],axis=0)\n",
    "    res = np.array(ket)@(pauli_sum)\n",
    "    print(state,psi_s,evaluate_le(n,res))\n",
    "print('='*89)\n",
    "for state in configs:\n",
    "    psi_s = psi(get_ket(state))\n",
    "    eval = ''\n",
    "    for i in range(n):\n",
    "        st = [s if x!=i else -1*s for x,s in enumerate(state)]\n",
    "        ket = get_ket(st)\n",
    "        eval+='-'+psi(ket)\n",
    "    print(state,psi_s,eval)"
   ]
  },
  {
   "cell_type": "code",
   "execution_count": 144,
   "id": "19bb7515-64b1-4c34-90dd-fb6d8424ccd4",
   "metadata": {},
   "outputs": [
    {
     "name": "stdout",
     "output_type": "stream",
     "text": [
      "[-1, -1, 1, -1] a14 none\n",
      "[-1, -1, 1, 1] a13 none\n",
      "[-1, -1, -1, -1] a16 4 * a16\n",
      "[-1, -1, -1, 1] a15 none\n",
      "[-1, 1, 1, -1] a10 none\n",
      "[-1, 1, 1, 1] a9 none\n",
      "[-1, 1, -1, -1] a12 none\n",
      "[-1, 1, -1, 1] a11 -4 * a11\n",
      "[1, -1, 1, -1] a6 -4 * a6\n",
      "[1, -1, 1, 1] a5 none\n",
      "[1, -1, -1, -1] a8 none\n",
      "[1, -1, -1, 1] a7 none\n",
      "[1, 1, 1, -1] a2 none\n",
      "[1, 1, 1, 1] a1 4 * a1\n",
      "[1, 1, -1, -1] a4 none\n",
      "[1, 1, -1, 1] a3 none\n",
      "=========================================================================================\n",
      "[-1, -1, 1, -1] a14 [1, -1, -1, 1] 0\n",
      "[-1, -1, 1, 1] a13 [1, -1, 1, -1] 0\n",
      "[-1, -1, -1, -1] a16 [1, 1, 1, 1] 4\n",
      "[-1, -1, -1, 1] a15 [1, 1, -1, -1] 0\n",
      "[-1, 1, 1, -1] a10 [-1, 1, -1, 1] 0\n",
      "[-1, 1, 1, 1] a9 [-1, 1, 1, -1] 0\n",
      "[-1, 1, -1, -1] a12 [-1, -1, 1, 1] 0\n",
      "[-1, 1, -1, 1] a11 [-1, -1, -1, -1] -4\n",
      "[1, -1, 1, -1] a6 [-1, -1, -1, -1] -4\n",
      "[1, -1, 1, 1] a5 [-1, -1, 1, 1] 0\n",
      "[1, -1, -1, -1] a8 [-1, 1, 1, -1] 0\n",
      "[1, -1, -1, 1] a7 [-1, 1, -1, 1] 0\n",
      "[1, 1, 1, -1] a2 [1, 1, -1, -1] 0\n",
      "[1, 1, 1, 1] a1 [1, 1, 1, 1] 4\n",
      "[1, 1, -1, -1] a4 [1, -1, 1, -1] 0\n",
      "[1, 1, -1, 1] a3 [1, -1, -1, 1] 0\n"
     ]
    }
   ],
   "source": [
    "n=4\n",
    "pairs = ([[i,i+1] for i in range(n-1)]) + ([[0,n-1]] if n>2 else [])\n",
    "\n",
    "configs = generate_spin_configurations(n)\n",
    "for state in configs:\n",
    "    ket = get_ket(state)\n",
    "    psi_s = psi(ket)\n",
    "    pauli_sum = np.sum([get_pauli_operator(\"z\",pair[0],n).A@get_pauli_operator(\"z\",pair[1],n).A for pair in pairs],axis=0)\n",
    "    res = np.array(ket)@(pauli_sum)\n",
    "    print(state,psi_s,evaluate_le(n,res))\n",
    "\n",
    "print('='*89)\n",
    "\n",
    "\n",
    "for state in configs:\n",
    "    ket = get_ket(state)\n",
    "    psi_s = psi(ket)\n",
    "    print(\n",
    "        state,\n",
    "        psi_s,\n",
    "        [state[pair[0]]*state[pair[1]] for pair in pairs],\n",
    "        np.sum([state[pair[0]]*state[pair[1]] for pair in pairs]),\n",
    "    )"
   ]
  },
  {
   "cell_type": "code",
   "execution_count": 66,
   "id": "7824d313-36a0-4dee-8e86-2ad896ec91c0",
   "metadata": {},
   "outputs": [
    {
     "data": {
      "text/plain": [
       "10715086071862673209484250490600018105614048117055336074437503883703510511249361224931983788156958581275946729175531468251871452856923140435984577574698574803934567774824230985421074605062371141877954182153046474983581941267398767559165543946077062914571196477686542167660429831652624386837205668069376"
      ]
     },
     "execution_count": 66,
     "metadata": {},
     "output_type": "execute_result"
    }
   ],
   "source": [
    "def local_energy(self, state, h):\n",
    "    \"\"\"Calculate the local energy E_loc(S) = ⟨S|H|Ψ⟩/Ψ(S).\"\"\"\n",
    "    E = 0\n",
    "    # Interaction terms (σᶻᵢσᶻⱼ)\n",
    "    for i in range(self.n_spins):\n",
    "        if i == self.n_spins-1:\n",
    "            E += (state[i]*state[0])\n",
    "        else:\n",
    "            E += (state[i]*state[i+1])\n",
    "\n",
    "    # Transverse field terms (σˣ)\n",
    "    psi_s = self.psi(state)\n",
    "    for i in range(self.n_spins):\n",
    "        state[i] *= -1  # Flip spin i\n",
    "        E += h * self.psi(state)/psi_s\n",
    "        state[i] *= -1  # Flip back\n",
    "        \n",
    "    return E/self.n_spins"
   ]
  },
  {
   "cell_type": "code",
   "execution_count": null,
   "id": "927848cd-7936-4524-8307-3491ca8ad9be",
   "metadata": {},
   "outputs": [],
   "source": []
  }
 ],
 "metadata": {
  "kernelspec": {
   "display_name": "Python 3 (ipykernel)",
   "language": "python",
   "name": "python3"
  },
  "language_info": {
   "codemirror_mode": {
    "name": "ipython",
    "version": 3
   },
   "file_extension": ".py",
   "mimetype": "text/x-python",
   "name": "python",
   "nbconvert_exporter": "python",
   "pygments_lexer": "ipython3",
   "version": "3.9.6"
  }
 },
 "nbformat": 4,
 "nbformat_minor": 5
}
